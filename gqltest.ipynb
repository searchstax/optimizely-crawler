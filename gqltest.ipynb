{
 "cells": [
  {
   "cell_type": "code",
   "execution_count": 1,
   "metadata": {},
   "outputs": [],
   "source": [
    "from gql import gql, Client\n",
    "from gql.transport.aiohttp import AIOHTTPTransport"
   ]
  },
  {
   "cell_type": "code",
   "execution_count": 11,
   "metadata": {},
   "outputs": [
    {
     "name": "stdout",
     "output_type": "stream",
     "text": [
      "The dotenv extension is already loaded. To reload it, use:\n",
      "  %reload_ext dotenv\n",
      "QgO4bLzRTe4eveK4SozameJiPT4vAEbEP0XftIglpGAapGHG\n"
     ]
    }
   ],
   "source": [
    "import os\n",
    "%load_ext dotenv\n",
    "%dotenv"
   ]
  },
  {
   "cell_type": "code",
   "execution_count": 13,
   "metadata": {},
   "outputs": [],
   "source": [
    "# Select your transport with a defined url endpoint\n",
    "transport = AIOHTTPTransport(url=f\"https://cg.optimizely.com/content/v2?auth={os.getenv('SINGLE_KEY')}\")\n",
    "\n",
    "# Create a GraphQL client using the defined transport\n",
    "client = Client(transport=transport, fetch_schema_from_transport=True)\n"
   ]
  },
  {
   "cell_type": "markdown",
   "metadata": {},
   "source": [
    "Go to properties and then go to all the fields you want to be searchable.\n",
    "Then change the indexing property of each of those to searchable.\n",
    "Retrigger the graphql sync\n",
    "\n",
    "\n",
    "If you don't do this then the content won't show up in _fulltext"
   ]
  },
  {
   "cell_type": "code",
   "execution_count": 10,
   "metadata": {},
   "outputs": [
    {
     "name": "stdout",
     "output_type": "stream",
     "text": [
      "{'_Page': {'items': [{'_fulltext': ['Image', 'All your money in one place', 'Heading', \"Your cash, your choices, and a banking experience that's as unique as you are\", 'Call To Action', 'banking made modern', 'Send, spend and save smarter', 'Change the way you bank.', 'Saving', 'Grow your money every day', '<p>Watch your savings grow, not your worries. Always high interest rates because you deserve it. Oh, and no fees ever. Did we mention you deserve it?&nbsp;</p>', 'Paragraph', 'Checking', 'Banking without the bull', '<p>Checking that works for you to satisfy your checking account needs.&nbsp;</p>', 'Credit cards', 'More points, no problem', '<p>Find the perfect credit card from among our most popular options.</p>', 'Loans', 'Funds in a flash', '<p>Need something now? Fast approvals and low rates &ndash; your shortcut to making your dreams happen.</p>', 'Trusted by everyone you trust', 'Join 3 million+ happy people who already bank with Mosey', 'Moseybank meets you where you are, no matter who you are.', 'Testimonial', 'Mosey anywhere', 'One app to bank it all', \"<p>Delete all your other banking apps (jk... unless?)\\u2028Mosey's app does it all - from money matters to investing and perks. It's like we shrunk our entire bank down and shoved it in your pocket.</p>\", 'The more you know', 'We picked out some wordy bits just for you', 'Article List', 'Mosey Bank'], '_metadata': {'url': {'base': 'https://optimizely-saas-5q4iokzv8-karans-projects-434d3075.vercel.app', 'hierarchical': '/en/'}, 'displayName': 'Mosey Bank'}, '_id': '595d754f-6ef3-4532-b692-cd32e0deafd6_en_Published'}, {'_fulltext': [\"Mosey Bank's Exclusive Loans: Empowering Your Financial Dreams!\", 'Heading', \"Turn Your Aspirations into Reality with Mosey's Exclusive Loan Solutions\", \"<p>At Mosey Bank, we understand that sometimes you need a helping hand to achieve your financial goals. That's why we are thrilled to introduce our range of&nbsp;<strong>Mosey Exclusive Loans</strong>. These exclusive loan solutions are designed to empower you and provide you with the financial support you need to turn your dreams into reality.</p>\\n<h3>Why Choose Mosey's Exclusive Loans?</h3>\\n<p><strong>1. Competitive Interest Rates:</strong>&nbsp;Mosey Bank offers some of the most competitive interest rates in the market, ensuring that your loan is not a burden but an opportunity to thrive.</p>\\n<p><strong>2. Flexible Repayment Terms:</strong>&nbsp;Tailor your loan to fit your unique needs with flexible repayment terms. Choose the duration that suits you, from short-term options to longer, more manageable plans.</p>\\n<p><strong>3. Personalized Loan Packages:</strong>&nbsp;We understand that every individual's financial situation is unique. Our dedicated loan experts will work closely with you to create a loan package that suits your specific needs.</p>\\n<p><strong>4. Quick and Easy Approval:</strong>&nbsp;Our streamlined application process ensures that you get a quick response to your loan application, so you can move forward with your plans sooner.</p>\\n<p><strong>5. No Hidden Fees:</strong>&nbsp;Transparency is key at Mosey Bank. With our Exclusive Loans, you won't encounter any hidden fees or surprises. What you see is what you get.</p>\\n<p><strong>6. Exceptional Customer Support:</strong>&nbsp;Our customer support team is here to guide you through the loan application process and answer any questions you may have.</p>\\n<h3>Mosey's Exclusive Loan Solutions</h3>\\n<p>Choose from our exclusive range of loan solutions to meet your financial aspirations:</p>\\n<ul>\\n<li>\\n<p><strong>Mosey Personal Loans:</strong>&nbsp;Secure the funds you need for personal expenses, such as education, home improvements, or unexpected medical bills.</p>\\n</li>\\n<li>\\n<p><strong>Mosey Auto Loans:</strong>&nbsp;Drive home your dream car with our competitive auto loans, featuring low interest rates and convenient terms.</p>\\n</li>\\n<li>\\n<p><strong>Mosey Home Loans:</strong>&nbsp;Make homeownership a reality with our flexible home loan options, designed to suit your budget and lifestyle.</p>\\n</li>\\n<li>\\n<p><strong>Mosey Business Loans:</strong>&nbsp;Fuel your business growth with our business loan solutions, providing you with the capital to expand and thrive.</p>\\n</li>\\n</ul>\\n<h3>How to Get Your Mosey Exclusive Loan</h3>\\n<p>Applying for a Mosey Exclusive Loan is simple:</p>\\n<ol>\\n<li>\\n<p><strong>Online Application:</strong>&nbsp;Visit our website and complete the online application form in just a few minutes.</p>\\n</li>\\n<li>\\n<p><strong>Visit Our Branch:</strong>&nbsp;If you prefer a face-to-face experience, visit any Mosey Bank branch, and our dedicated staff will assist you in choosing the perfect loan.</p>\\n</li>\\n<li>\\n<p><strong>Call Us:</strong>&nbsp;Have questions or need assistance? Contact our customer support team, and they will guide you through the loan application process.</p>\\n</li>\\n</ol>\\n<h3>Realize Your Financial Dreams with Mosey Bank</h3>\\n<p>At Mosey Bank, we believe that your dreams are worth investing in. Our Exclusive Loans are designed to empower you to pursue your goals and aspirations, whether it's achieving higher education, owning your dream home, or growing your business.</p>\\n<p>Don't let financial barriers hold you back. Apply for your Mosey Exclusive Loan today, and let us help you take the first step toward turning your financial dreams into a reality!</p>\", 'Paragraph', 'Loans'], '_metadata': {'url': {'base': 'https://optimizely-saas-5q4iokzv8-karans-projects-434d3075.vercel.app', 'hierarchical': '/en/loans/'}, 'displayName': 'Loans'}, '_id': 'd521ca5e-bb3f-4193-9c03-9f4d09472ac9_en_Published'}, {'_fulltext': [\"Introducing Mosey's Exclusive Savings Account: Secure Your Financial Future!\", 'Heading', 'Your Path to Financial Security Begins Here', \"<p><strong>What we do</strong><br />Since 2000 we've been serving heroes on the Frontlines of many industries. We help them so they can do their jobs and live the lives they've always imagined. We service the healthcare, education, social services and administration industries with pride and passion. We are relentlessly focused on serving our customers, so they can best serve theirs.</p>\\n<p><strong>Who we are</strong><br />We are a team of passionate, empathetic and driven individuals all working toward a common goal: help those on the Frontlines so they can build a better world. Our leaders are the beacon of hope our world needs.</p>\\n<p><strong>What we have done</strong><br />We've made positive differences in communities across the globe. We&rsquo;ve helped students see better futures. We've provided those who are sick with good care. We&rsquo;ve supported veterans, homeless populations and other at risk populations. We are committed to helping everyone live an abundant, happy and healthy life.</p>\", 'Paragraph', 'Savings'], '_metadata': {'url': {'base': 'https://optimizely-saas-5q4iokzv8-karans-projects-434d3075.vercel.app', 'hierarchical': '/en/savings/'}, 'displayName': 'Savings'}, '_id': 'f33f5fb3-585b-4c2f-93e7-656cba888892_en_Published'}, {'_fulltext': ['About Mosey Bank', 'Heading', '<p><strong>What we do</strong><br />Since 2000 we&rsquo;ve been serving heroes on the Frontlines of many industries. We help them so they can do their jobs and live the lives they&rsquo;ve always imagined. We service the healthcare, education, social services and administration industries with pride and passion. We are relentlessly focused on serving our customers, so they can best serve theirs.</p>\\n<p><strong>Who we are</strong><br />We are a team of passionate, empathetic and driven individuals all working toward a common goal: help those on the Frontlines so they can build a better world. Our leaders are the beacon of hope our world needs.</p>\\n<p><strong>What we have done</strong><br />We&rsquo;ve made positive differences in communities across the globe. We&rsquo;ve helped students see better futures. We&rsquo;ve provided those who are sick with good care. We&rsquo;ve supported veterans, homeless populations and other at risk populations. We are committed to helping everyone live an abundant, happy and healthy life.</p>', 'Paragraph'], '_metadata': {'url': {'base': 'https://optimizely-saas-5q4iokzv8-karans-projects-434d3075.vercel.app', 'hierarchical': '/en/about/'}, 'displayName': 'About Mosey Bank'}, '_id': 'c9daa5e4-db02-43ba-8953-15f815cc62a7_en_Published'}, {'_fulltext': ['Giving back', '<div class=\"article-description font-semibold md:text-lg pb-2 md:pb-2 lg:pb-3\"><strong>Last year alone, Mosey Bank associates volunteered over 32,000 hours in community service. Explore some of the ways we give back.</strong></div>\\n<p>At Mosey Bank, we&rsquo;re guided by a common purpose to help make financial lives better. We drive Responsible Growth by focusing on our clients, managing risk well, and making sure our growth is sustainable. To be sustainable, we have to share our success with our communities which includes all we do to drive progress on societal priorities, including those broadly defined in the United Nations (UN) Sustainable Development Goals (SDG): poverty, hunger, education, affordable housing, and other key areas.</p>\\n<p>As part of this work, we develop strong partnerships with nonprofit organizations addressing issues fundamental to economic mobility and social progress in low- and moderate-income communities. We focus on improving the lives of individuals and families by investing in basic needs and workforce development and education and also strengthening broader community vitality by addressing needs related to affordable housing, small business, and neighborhood revitalization. Through our partnerships, we support vulnerable populations, including working families, youth and young adults out of school and work, seniors, individuals living with disabilities, veterans, and those impacted by the criminal justice system &ndash; enabling them to move forward toward their goals. We recognize that people and communities of color continue to face significant challenges, and we are working to advance racial equality and economic opportunity throughout many of our partnerships.</p>'], '_metadata': {'url': {'base': 'https://optimizely-saas-5q4iokzv8-karans-projects-434d3075.vercel.app', 'hierarchical': '/en/insights/giving-back/'}, 'displayName': 'Giving back'}, '_id': '2d8e1c3c-f926-49a4-a695-7e1a319c89e7_en_Published'}, {'_fulltext': ['Financial services industry overview in 2023: Trends, statistics & analysis', '<div class=\"article-page-body rich-text\">\\n<p>The financial services sector is accelerating its adoption of digital technology. Paying with cash, participating in in-personal meetings with financial consultants, and even using an ATM are all fading facets of financial services.</p>\\n<p>To help you navigate the evolving industry, we\\'ve outlined major terms, topics, and trends to provide a high-level financial sector overview.</p>\\n<h2>What is the financial services industry?</h2>\\n<p>Financial services is a broad term used to describe the various offerings within the finance industry&ndash;encompassing everything from insurance and money management to payments and digital banking technology.</p>\\n<p>There are a multitude of stakeholders and moving parts within financial services, from credit card issuers and processors, to legacy banks and emerging challengers. And with financial activity becoming increasingly digitized, especially as consumers are choosing to manage their finances from home amid the ongoing coronavirus pandemic, financial institutions and startups are sharpening their technology and expanding remote services.</p>\\n<h2>Financial services industry overview</h2>\\n<p>There are three general types of financial services: personal, consumer, and corporate. These three categories encompass the major players and influencers for companies and organizations trying to climb the ladder of the industry.</p>\\n<h3>Personal Finance</h3>\\n<p>Why is personal finance management (PFM) important? Personal finance is an individual\\'s budgeting, saving, and spending of monetary resources, like income, over time&ndash;while taking into consideration various monthly payments or future life events. It sets consumers up for all stages and major events in life, from buying their first car to retirement planning.</p>\\n<p>When choosing a bank or other financial institution, consumers typically look for businesses that offer personal finance services, such as financial advisors. As money management activities increasingly migrate online, consumers are looking to banks that allow them to manage personal accounts remotely and take control of their own financial health via online platforms and mobile apps.</p>\\n</div>'], '_metadata': {'url': {'base': 'https://optimizely-saas-5q4iokzv8-karans-projects-434d3075.vercel.app', 'hierarchical': '/en/insights/financial-services-industry-overview-in-2023/'}, 'displayName': 'Financial services industry overview in 2023: Trends, statistics & analysis'}, '_id': 'e8ca983f-28ee-43e6-b59b-dc5d9c9eb026_en_Published'}, {'_fulltext': ['How to start using AI in product development today without breaking your existing process', '<h2 class=\"text-[30px] leading-[36px] mt-[24px] mb-20\">We all know achieving a healthy balance between work and family can be challenging for working parents and careers.</h2>\\n<div>\\n<p><span data-contrast=\"none\">When you go out there to build a product, you want people to use it.&nbsp;</span><span data-contrast=\"none\">As per&nbsp;</span><a href=\"https://userpilot.com/blog/improve-product-adoption-rate-saas/\" target=\"_blank\" rel=\"noopener\"><span data-contrast=\"none\"><span data-ccp-charstyle=\"Hyperlink\">userpilot</span></span></a><span data-contrast=\"none\">, only 17% of users actually use the SaaS products they&rsquo;re given. Fewer people using your product means they\\'ll miss out on seeing the value of your product and are unlikely to renew their subscription.&nbsp;</span></p>\\n<p><span data-contrast=\"none\">So, building a great product and&nbsp;</span><span data-contrast=\"none\">finding the market fit is essential in any product development lifecycle. Still, understanding potential users, getting deeper insights from customer data, and building prototypes &mdash; all take more time than the market is willing to offer you.</span></p>\\n<p><span data-contrast=\"none\">Products often go out without much brainstorming or just go out too late. As per a report by&nbsp;</span><a href=\"https://undo.io/solutions/developer-productivity/the-cost-of-software-failures\" target=\"_blank\" rel=\"noopener\"><span data-contrast=\"none\"><span data-ccp-charstyle=\"Hyperlink\">Undo</span></span></a><span data-contrast=\"none\">, debugging software failures costs roughly $61 billion annually</span><span data-contrast=\"none\">, indicating inadequate testing.&nbsp;</span><span data-contrast=\"none\">However, I</span><span data-contrast=\"auto\">&nbsp;sense that the process is going to become more data-driven and easier with the continuous advancements in AI.&nbsp;</span></p>\\n<p><span data-contrast=\"auto\">And here&rsquo;s how.</span></p>\\n<h3><span data-contrast=\"auto\">AI is not the solution itself</span></h3>\\n<p><span data-contrast=\"auto\">Yes, AI cannot do everything for you.</span></p>\\n<p><span data-contrast=\"auto\"><img src=\"https://media2.giphy.com/media/v1.Y2lkPTc5MGI3NjExNWVscnBqdDhzZmNtcXB1dTYyanF5NWpxY3FmNzJ6cDYzN2xvMmFkMSZlcD12MV9pbnRlcm5hbF9naWZfYnlfaWQmY3Q9Zw/LycfkVG4L6x0Y/giphy.gif\" alt=\"I Dont Arrested Development GIF\" /></span></p>\\n<p><strong><span data-contrast=\"none\">Gif source:&nbsp;</span></strong><a href=\"https://media.giphy.com/media/LycfkVG4L6x0Y/giphy.gif\" target=\"_blank\" rel=\"noopener\"><span data-contrast=\"none\"><span data-ccp-charstyle=\"Hyperlink\">Giphy.com</span></span></a></p>\\n<p><span data-contrast=\"none\">AI tools are there to help you build better features and products faster, but they won&rsquo;t do an end-to-end job for you. As a product team, you should evaluate your product development process for AI readiness. It means assessing the existing infrastructure, availability of quality data, and the technical capabilities of your team.&nbsp;</span><span data-ccp-props=\"{&quot;134233118&quot;:false,&quot;201341983&quot;:0,&quot;335551550&quot;:6,&quot;335551620&quot;:6,&quot;335559739&quot;:0,&quot;335559740&quot;:240}\">&nbsp;</span></p>\\n<p><span data-contrast=\"none\">Involving AI doesn\\'t make the process much different from a standard one. Following your standard product development practices and understanding user requirements is still paramount. It can reveal opportunities for intelligent automation or personalized experiences.&nbsp;</span></p>\\n</div>', 'How to: Use AI in product development'], '_metadata': {'url': {'base': 'https://optimizely-saas-5q4iokzv8-karans-projects-434d3075.vercel.app', 'hierarchical': '/en/insights/how-to-use-ai-in-product-development/'}, 'displayName': 'How to: Use AI in product development'}, '_id': '6dbc9c9e-127e-4f1f-adba-d197486aefda_en_Published'}, {'_fulltext': ['Mosey Insights', '<p>Welcome to our \"Insights\" section - your trusted source for valuable knowledge, expert advice, and thought leadership in the world of banking and finance. Here, we delve deep into the intricacies of financial products, providing you with comprehensive background articles that demystify complex concepts and empower you to make informed decisions.</p>', 'Insights'], '_metadata': {'url': {'base': 'https://optimizely-saas-5q4iokzv8-karans-projects-434d3075.vercel.app', 'hierarchical': '/en/insights/'}, 'displayName': 'Insights'}, '_id': 'b2e729ed-95f1-4d8e-bd25-08d3ed3e74e8_en_Published'}, {'_fulltext': ['Global HQ', '[Card] AI In Product Development', 'website', 'Website', 'Privacy notice', 'Website terms of use', 'Trust center', 'Customer support', 'Community', 'About', 'Report fraud', 'Report lost or stolen card', 'Savings', 'Loans', 'Credit Cards', 'Insights', 'Mosey Bank Footer', 'Services', 'Inspiration', 'Services Mega Menu', 'Blog Menu', 'Inspiration Mega Menu', 'Customer Support', 'About Mosey Bank', 'Support Menu', 'Support Mega Menu', 'Mosey Bank Header', 'Login', 'Get Started', 'Import / Export', '<p>Helper page to properly import/export all supporting data for this website. This page may be removed once the site content has been imported.</p>'], '_metadata': {'url': {'base': 'https://optimizely-saas-5q4iokzv8-karans-projects-434d3075.vercel.app', 'hierarchical': '/en/import-export/'}, 'displayName': 'Import / Export'}, '_id': '44c3fcff-0661-4016-886a-030c0a5a22e0_en_Published'}]}}\n"
     ]
    }
   ],
   "source": [
    "query = gql(\n",
    "    \"\"\"\n",
    "    query AcrossAllContent {\n",
    "    _Page {\n",
    "        items {\n",
    "        _fulltext\n",
    "        _metadata {\n",
    "            url {\n",
    "            base\n",
    "            hierarchical\n",
    "            }\n",
    "            displayName\n",
    "        }\n",
    "        _id\n",
    "        }\n",
    "    }\n",
    "    }\n",
    "\"\"\"\n",
    ")\n",
    "\n",
    "# Execute the query on the transport\n",
    "result = await client.execute_async(query)\n",
    "print(result)"
   ]
  },
  {
   "cell_type": "code",
   "execution_count": 31,
   "metadata": {},
   "outputs": [
    {
     "name": "stdout",
     "output_type": "stream",
     "text": [
      "Mosey Bank\n",
      "https://optimizely-saas-5q4iokzv8-karans-projects-434d3075.vercel.app/en/\n",
      "Image All your money in one place Heading Your cash, your choices, and a banking experience that's as unique as you are Call To Action banking made modern Send, spend and save smarter Change the way you bank. Saving Grow your money every day <p>Watch your savings grow, not your worries. Always high interest rates because you deserve it. Oh, and no fees ever. Did we mention you deserve it?&nbsp;</p> Paragraph Checking Banking without the bull <p>Checking that works for you to satisfy your checking account needs.&nbsp;</p> Credit cards More points, no problem <p>Find the perfect credit card from among our most popular options.</p> Loans Funds in a flash <p>Need something now? Fast approvals and low rates &ndash; your shortcut to making your dreams happen.</p> Trusted by everyone you trust Join 3 million+ happy people who already bank with Mosey Moseybank meets you where you are, no matter who you are. Testimonial Mosey anywhere One app to bank it all <p>Delete all your other banking apps (jk... unless?) Mosey's app does it all - from money matters to investing and perks. It's like we shrunk our entire bank down and shoved it in your pocket.</p> The more you know We picked out some wordy bits just for you Article List Mosey Bank\n",
      "595d754f-6ef3-4532-b692-cd32e0deafd6_en_Published\n",
      "\n",
      "\n",
      "\n",
      "Loans\n",
      "https://optimizely-saas-5q4iokzv8-karans-projects-434d3075.vercel.app/en/loans/\n",
      "Mosey Bank's Exclusive Loans: Empowering Your Financial Dreams! Heading Turn Your Aspirations into Reality with Mosey's Exclusive Loan Solutions <p>At Mosey Bank, we understand that sometimes you need a helping hand to achieve your financial goals. That's why we are thrilled to introduce our range of&nbsp;<strong>Mosey Exclusive Loans</strong>. These exclusive loan solutions are designed to empower you and provide you with the financial support you need to turn your dreams into reality.</p>\n",
      "<h3>Why Choose Mosey's Exclusive Loans?</h3>\n",
      "<p><strong>1. Competitive Interest Rates:</strong>&nbsp;Mosey Bank offers some of the most competitive interest rates in the market, ensuring that your loan is not a burden but an opportunity to thrive.</p>\n",
      "<p><strong>2. Flexible Repayment Terms:</strong>&nbsp;Tailor your loan to fit your unique needs with flexible repayment terms. Choose the duration that suits you, from short-term options to longer, more manageable plans.</p>\n",
      "<p><strong>3. Personalized Loan Packages:</strong>&nbsp;We understand that every individual's financial situation is unique. Our dedicated loan experts will work closely with you to create a loan package that suits your specific needs.</p>\n",
      "<p><strong>4. Quick and Easy Approval:</strong>&nbsp;Our streamlined application process ensures that you get a quick response to your loan application, so you can move forward with your plans sooner.</p>\n",
      "<p><strong>5. No Hidden Fees:</strong>&nbsp;Transparency is key at Mosey Bank. With our Exclusive Loans, you won't encounter any hidden fees or surprises. What you see is what you get.</p>\n",
      "<p><strong>6. Exceptional Customer Support:</strong>&nbsp;Our customer support team is here to guide you through the loan application process and answer any questions you may have.</p>\n",
      "<h3>Mosey's Exclusive Loan Solutions</h3>\n",
      "<p>Choose from our exclusive range of loan solutions to meet your financial aspirations:</p>\n",
      "<ul>\n",
      "<li>\n",
      "<p><strong>Mosey Personal Loans:</strong>&nbsp;Secure the funds you need for personal expenses, such as education, home improvements, or unexpected medical bills.</p>\n",
      "</li>\n",
      "<li>\n",
      "<p><strong>Mosey Auto Loans:</strong>&nbsp;Drive home your dream car with our competitive auto loans, featuring low interest rates and convenient terms.</p>\n",
      "</li>\n",
      "<li>\n",
      "<p><strong>Mosey Home Loans:</strong>&nbsp;Make homeownership a reality with our flexible home loan options, designed to suit your budget and lifestyle.</p>\n",
      "</li>\n",
      "<li>\n",
      "<p><strong>Mosey Business Loans:</strong>&nbsp;Fuel your business growth with our business loan solutions, providing you with the capital to expand and thrive.</p>\n",
      "</li>\n",
      "</ul>\n",
      "<h3>How to Get Your Mosey Exclusive Loan</h3>\n",
      "<p>Applying for a Mosey Exclusive Loan is simple:</p>\n",
      "<ol>\n",
      "<li>\n",
      "<p><strong>Online Application:</strong>&nbsp;Visit our website and complete the online application form in just a few minutes.</p>\n",
      "</li>\n",
      "<li>\n",
      "<p><strong>Visit Our Branch:</strong>&nbsp;If you prefer a face-to-face experience, visit any Mosey Bank branch, and our dedicated staff will assist you in choosing the perfect loan.</p>\n",
      "</li>\n",
      "<li>\n",
      "<p><strong>Call Us:</strong>&nbsp;Have questions or need assistance? Contact our customer support team, and they will guide you through the loan application process.</p>\n",
      "</li>\n",
      "</ol>\n",
      "<h3>Realize Your Financial Dreams with Mosey Bank</h3>\n",
      "<p>At Mosey Bank, we believe that your dreams are worth investing in. Our Exclusive Loans are designed to empower you to pursue your goals and aspirations, whether it's achieving higher education, owning your dream home, or growing your business.</p>\n",
      "<p>Don't let financial barriers hold you back. Apply for your Mosey Exclusive Loan today, and let us help you take the first step toward turning your financial dreams into a reality!</p> Paragraph Loans\n",
      "d521ca5e-bb3f-4193-9c03-9f4d09472ac9_en_Published\n",
      "\n",
      "\n",
      "\n",
      "Savings\n",
      "https://optimizely-saas-5q4iokzv8-karans-projects-434d3075.vercel.app/en/savings/\n",
      "Introducing Mosey's Exclusive Savings Account: Secure Your Financial Future! Heading Your Path to Financial Security Begins Here <p><strong>What we do</strong><br />Since 2000 we've been serving heroes on the Frontlines of many industries. We help them so they can do their jobs and live the lives they've always imagined. We service the healthcare, education, social services and administration industries with pride and passion. We are relentlessly focused on serving our customers, so they can best serve theirs.</p>\n",
      "<p><strong>Who we are</strong><br />We are a team of passionate, empathetic and driven individuals all working toward a common goal: help those on the Frontlines so they can build a better world. Our leaders are the beacon of hope our world needs.</p>\n",
      "<p><strong>What we have done</strong><br />We've made positive differences in communities across the globe. We&rsquo;ve helped students see better futures. We've provided those who are sick with good care. We&rsquo;ve supported veterans, homeless populations and other at risk populations. We are committed to helping everyone live an abundant, happy and healthy life.</p> Paragraph Savings\n",
      "f33f5fb3-585b-4c2f-93e7-656cba888892_en_Published\n",
      "\n",
      "\n",
      "\n",
      "About Mosey Bank\n",
      "https://optimizely-saas-5q4iokzv8-karans-projects-434d3075.vercel.app/en/about/\n",
      "About Mosey Bank Heading <p><strong>What we do</strong><br />Since 2000 we&rsquo;ve been serving heroes on the Frontlines of many industries. We help them so they can do their jobs and live the lives they&rsquo;ve always imagined. We service the healthcare, education, social services and administration industries with pride and passion. We are relentlessly focused on serving our customers, so they can best serve theirs.</p>\n",
      "<p><strong>Who we are</strong><br />We are a team of passionate, empathetic and driven individuals all working toward a common goal: help those on the Frontlines so they can build a better world. Our leaders are the beacon of hope our world needs.</p>\n",
      "<p><strong>What we have done</strong><br />We&rsquo;ve made positive differences in communities across the globe. We&rsquo;ve helped students see better futures. We&rsquo;ve provided those who are sick with good care. We&rsquo;ve supported veterans, homeless populations and other at risk populations. We are committed to helping everyone live an abundant, happy and healthy life.</p> Paragraph\n",
      "c9daa5e4-db02-43ba-8953-15f815cc62a7_en_Published\n",
      "\n",
      "\n",
      "\n",
      "Giving back\n",
      "https://optimizely-saas-5q4iokzv8-karans-projects-434d3075.vercel.app/en/insights/giving-back/\n",
      "Giving back <div class=\"article-description font-semibold md:text-lg pb-2 md:pb-2 lg:pb-3\"><strong>Last year alone, Mosey Bank associates volunteered over 32,000 hours in community service. Explore some of the ways we give back.</strong></div>\n",
      "<p>At Mosey Bank, we&rsquo;re guided by a common purpose to help make financial lives better. We drive Responsible Growth by focusing on our clients, managing risk well, and making sure our growth is sustainable. To be sustainable, we have to share our success with our communities which includes all we do to drive progress on societal priorities, including those broadly defined in the United Nations (UN) Sustainable Development Goals (SDG): poverty, hunger, education, affordable housing, and other key areas.</p>\n",
      "<p>As part of this work, we develop strong partnerships with nonprofit organizations addressing issues fundamental to economic mobility and social progress in low- and moderate-income communities. We focus on improving the lives of individuals and families by investing in basic needs and workforce development and education and also strengthening broader community vitality by addressing needs related to affordable housing, small business, and neighborhood revitalization. Through our partnerships, we support vulnerable populations, including working families, youth and young adults out of school and work, seniors, individuals living with disabilities, veterans, and those impacted by the criminal justice system &ndash; enabling them to move forward toward their goals. We recognize that people and communities of color continue to face significant challenges, and we are working to advance racial equality and economic opportunity throughout many of our partnerships.</p>\n",
      "2d8e1c3c-f926-49a4-a695-7e1a319c89e7_en_Published\n",
      "\n",
      "\n",
      "\n",
      "Financial services industry overview in 2023: Trends, statistics & analysis\n",
      "https://optimizely-saas-5q4iokzv8-karans-projects-434d3075.vercel.app/en/insights/financial-services-industry-overview-in-2023/\n",
      "Financial services industry overview in 2023: Trends, statistics & analysis <div class=\"article-page-body rich-text\">\n",
      "<p>The financial services sector is accelerating its adoption of digital technology. Paying with cash, participating in in-personal meetings with financial consultants, and even using an ATM are all fading facets of financial services.</p>\n",
      "<p>To help you navigate the evolving industry, we've outlined major terms, topics, and trends to provide a high-level financial sector overview.</p>\n",
      "<h2>What is the financial services industry?</h2>\n",
      "<p>Financial services is a broad term used to describe the various offerings within the finance industry&ndash;encompassing everything from insurance and money management to payments and digital banking technology.</p>\n",
      "<p>There are a multitude of stakeholders and moving parts within financial services, from credit card issuers and processors, to legacy banks and emerging challengers. And with financial activity becoming increasingly digitized, especially as consumers are choosing to manage their finances from home amid the ongoing coronavirus pandemic, financial institutions and startups are sharpening their technology and expanding remote services.</p>\n",
      "<h2>Financial services industry overview</h2>\n",
      "<p>There are three general types of financial services: personal, consumer, and corporate. These three categories encompass the major players and influencers for companies and organizations trying to climb the ladder of the industry.</p>\n",
      "<h3>Personal Finance</h3>\n",
      "<p>Why is personal finance management (PFM) important? Personal finance is an individual's budgeting, saving, and spending of monetary resources, like income, over time&ndash;while taking into consideration various monthly payments or future life events. It sets consumers up for all stages and major events in life, from buying their first car to retirement planning.</p>\n",
      "<p>When choosing a bank or other financial institution, consumers typically look for businesses that offer personal finance services, such as financial advisors. As money management activities increasingly migrate online, consumers are looking to banks that allow them to manage personal accounts remotely and take control of their own financial health via online platforms and mobile apps.</p>\n",
      "</div>\n",
      "e8ca983f-28ee-43e6-b59b-dc5d9c9eb026_en_Published\n",
      "\n",
      "\n",
      "\n",
      "How to: Use AI in product development\n",
      "https://optimizely-saas-5q4iokzv8-karans-projects-434d3075.vercel.app/en/insights/how-to-use-ai-in-product-development/\n",
      "How to start using AI in product development today without breaking your existing process <h2 class=\"text-[30px] leading-[36px] mt-[24px] mb-20\">We all know achieving a healthy balance between work and family can be challenging for working parents and careers.</h2>\n",
      "<div>\n",
      "<p><span data-contrast=\"none\">When you go out there to build a product, you want people to use it.&nbsp;</span><span data-contrast=\"none\">As per&nbsp;</span><a href=\"https://userpilot.com/blog/improve-product-adoption-rate-saas/\" target=\"_blank\" rel=\"noopener\"><span data-contrast=\"none\"><span data-ccp-charstyle=\"Hyperlink\">userpilot</span></span></a><span data-contrast=\"none\">, only 17% of users actually use the SaaS products they&rsquo;re given. Fewer people using your product means they'll miss out on seeing the value of your product and are unlikely to renew their subscription.&nbsp;</span></p>\n",
      "<p><span data-contrast=\"none\">So, building a great product and&nbsp;</span><span data-contrast=\"none\">finding the market fit is essential in any product development lifecycle. Still, understanding potential users, getting deeper insights from customer data, and building prototypes &mdash; all take more time than the market is willing to offer you.</span></p>\n",
      "<p><span data-contrast=\"none\">Products often go out without much brainstorming or just go out too late. As per a report by&nbsp;</span><a href=\"https://undo.io/solutions/developer-productivity/the-cost-of-software-failures\" target=\"_blank\" rel=\"noopener\"><span data-contrast=\"none\"><span data-ccp-charstyle=\"Hyperlink\">Undo</span></span></a><span data-contrast=\"none\">, debugging software failures costs roughly $61 billion annually</span><span data-contrast=\"none\">, indicating inadequate testing.&nbsp;</span><span data-contrast=\"none\">However, I</span><span data-contrast=\"auto\">&nbsp;sense that the process is going to become more data-driven and easier with the continuous advancements in AI.&nbsp;</span></p>\n",
      "<p><span data-contrast=\"auto\">And here&rsquo;s how.</span></p>\n",
      "<h3><span data-contrast=\"auto\">AI is not the solution itself</span></h3>\n",
      "<p><span data-contrast=\"auto\">Yes, AI cannot do everything for you.</span></p>\n",
      "<p><span data-contrast=\"auto\"><img src=\"https://media2.giphy.com/media/v1.Y2lkPTc5MGI3NjExNWVscnBqdDhzZmNtcXB1dTYyanF5NWpxY3FmNzJ6cDYzN2xvMmFkMSZlcD12MV9pbnRlcm5hbF9naWZfYnlfaWQmY3Q9Zw/LycfkVG4L6x0Y/giphy.gif\" alt=\"I Dont Arrested Development GIF\" /></span></p>\n",
      "<p><strong><span data-contrast=\"none\">Gif source:&nbsp;</span></strong><a href=\"https://media.giphy.com/media/LycfkVG4L6x0Y/giphy.gif\" target=\"_blank\" rel=\"noopener\"><span data-contrast=\"none\"><span data-ccp-charstyle=\"Hyperlink\">Giphy.com</span></span></a></p>\n",
      "<p><span data-contrast=\"none\">AI tools are there to help you build better features and products faster, but they won&rsquo;t do an end-to-end job for you. As a product team, you should evaluate your product development process for AI readiness. It means assessing the existing infrastructure, availability of quality data, and the technical capabilities of your team.&nbsp;</span><span data-ccp-props=\"{&quot;134233118&quot;:false,&quot;201341983&quot;:0,&quot;335551550&quot;:6,&quot;335551620&quot;:6,&quot;335559739&quot;:0,&quot;335559740&quot;:240}\">&nbsp;</span></p>\n",
      "<p><span data-contrast=\"none\">Involving AI doesn't make the process much different from a standard one. Following your standard product development practices and understanding user requirements is still paramount. It can reveal opportunities for intelligent automation or personalized experiences.&nbsp;</span></p>\n",
      "</div> How to: Use AI in product development\n",
      "6dbc9c9e-127e-4f1f-adba-d197486aefda_en_Published\n",
      "\n",
      "\n",
      "\n",
      "Insights\n",
      "https://optimizely-saas-5q4iokzv8-karans-projects-434d3075.vercel.app/en/insights/\n",
      "Mosey Insights <p>Welcome to our \"Insights\" section - your trusted source for valuable knowledge, expert advice, and thought leadership in the world of banking and finance. Here, we delve deep into the intricacies of financial products, providing you with comprehensive background articles that demystify complex concepts and empower you to make informed decisions.</p> Insights\n",
      "b2e729ed-95f1-4d8e-bd25-08d3ed3e74e8_en_Published\n",
      "\n",
      "\n",
      "\n",
      "Import / Export\n",
      "https://optimizely-saas-5q4iokzv8-karans-projects-434d3075.vercel.app/en/import-export/\n",
      "Global HQ [Card] AI In Product Development website Website Privacy notice Website terms of use Trust center Customer support Community About Report fraud Report lost or stolen card Savings Loans Credit Cards Insights Mosey Bank Footer Services Inspiration Services Mega Menu Blog Menu Inspiration Mega Menu Customer Support About Mosey Bank Support Menu Support Mega Menu Mosey Bank Header Login Get Started Import / Export <p>Helper page to properly import/export all supporting data for this website. This page may be removed once the site content has been imported.</p>\n",
      "44c3fcff-0661-4016-886a-030c0a5a22e0_en_Published\n",
      "\n",
      "\n",
      "\n"
     ]
    }
   ],
   "source": [
    "formatted_items = []\n",
    "for item in result[\"_Page\"][\"items\"]:\n",
    "    print(item[\"_metadata\"][\"displayName\"])\n",
    "    print(f'{item[\"_metadata\"][\"url\"][\"base\"]}{item[\"_metadata\"][\"url\"][\"hierarchical\"]}')\n",
    "    print(' '.join(item[\"_fulltext\"]))\n",
    "    print(item[\"_id\"])\n",
    "    obj = {\n",
    "        \"id\": item[\"_id\"],\n",
    "        \"title_t\": item[\"_metadata\"][\"displayName\"],\n",
    "        \"uri\": f'{item[\"_metadata\"][\"url\"][\"base\"]}{item[\"_metadata\"][\"url\"][\"hierarchical\"]}',\n",
    "        \"content_t\": ' '.join(item[\"_fulltext\"])\n",
    "    }\n",
    "    formatted_items.append(obj)\n",
    "    \n",
    "    print(\"\\n\\n\")"
   ]
  },
  {
   "cell_type": "code",
   "execution_count": 17,
   "metadata": {},
   "outputs": [],
   "source": [
    "from lxml.html.clean import Cleaner\n",
    "from lxml import etree"
   ]
  },
  {
   "cell_type": "code",
   "execution_count": 14,
   "metadata": {},
   "outputs": [],
   "source": [
    "is_clean_javascript = True\n",
    "is_clean_style = True\n",
    "kill_tags = [\"noscript\", \"footer\", \"header\", \"nav\", \"button\", \"form\"]"
   ]
  },
  {
   "cell_type": "code",
   "execution_count": 21,
   "metadata": {},
   "outputs": [],
   "source": [
    "def dom_cleaner(content):\n",
    "    cleaner = Cleaner(page_structure=False, links=False, style=is_clean_style,javascript=is_clean_javascript, kill_tags=kill_tags)\n",
    "    \n",
    "    return cleaner.clean_html(content)"
   ]
  },
  {
   "cell_type": "code",
   "execution_count": 33,
   "metadata": {},
   "outputs": [
    {
     "name": "stdout",
     "output_type": "stream",
     "text": [
      "Image All your money in one place Heading Your cash, your choices, and a banking experience that's as unique as you are Call To Action banking made modern Send, spend and save smarter Change the way you bank. Saving Grow your money every day  Watch your savings grow, not your worries. Always high interest rates because you deserve it. Oh, and no fees ever. Did we mention you deserve it?   Paragraph Checking Banking without the bull  Checking that works for you to satisfy your checking account needs.   Credit cards More points, no problem  Find the perfect credit card from among our most popular options.  Loans Funds in a flash  Need something now? Fast approvals and low rates – your shortcut to making your dreams happen.  Trusted by everyone you trust Join 3 million+ happy people who already bank with Mosey Moseybank meets you where you are, no matter who you are. Testimonial Mosey anywhere One app to bank it all  Delete all your other banking apps (jk... unless?) Mosey's app does it all - from money matters to investing and perks. It's like we shrunk our entire bank down and shoved it in your pocket.  The more you know We picked out some wordy bits just for you Article List Mosey Bank\n",
      "Mosey Bank's Exclusive Loans: Empowering Your Financial Dreams! Heading Turn Your Aspirations into Reality with Mosey's Exclusive Loan Solutions  At Mosey Bank, we understand that sometimes you need a helping hand to achieve your financial goals. That's why we are thrilled to introduce our range of  Mosey Exclusive Loans . These exclusive loan solutions are designed to empower you and provide you with the financial support you need to turn your dreams into reality. \n",
      " Why Choose Mosey's Exclusive Loans? \n",
      " 1. Competitive Interest Rates:  Mosey Bank offers some of the most competitive interest rates in the market, ensuring that your loan is not a burden but an opportunity to thrive. \n",
      " 2. Flexible Repayment Terms:  Tailor your loan to fit your unique needs with flexible repayment terms. Choose the duration that suits you, from short-term options to longer, more manageable plans. \n",
      " 3. Personalized Loan Packages:  We understand that every individual's financial situation is unique. Our dedicated loan experts will work closely with you to create a loan package that suits your specific needs. \n",
      " 4. Quick and Easy Approval:  Our streamlined application process ensures that you get a quick response to your loan application, so you can move forward with your plans sooner. \n",
      " 5. No Hidden Fees:  Transparency is key at Mosey Bank. With our Exclusive Loans, you won't encounter any hidden fees or surprises. What you see is what you get. \n",
      " 6. Exceptional Customer Support:  Our customer support team is here to guide you through the loan application process and answer any questions you may have. \n",
      " Mosey's Exclusive Loan Solutions \n",
      " Choose from our exclusive range of loan solutions to meet your financial aspirations: \n",
      " \n",
      " \n",
      " Mosey Personal Loans:  Secure the funds you need for personal expenses, such as education, home improvements, or unexpected medical bills. \n",
      " \n",
      " \n",
      " Mosey Auto Loans:  Drive home your dream car with our competitive auto loans, featuring low interest rates and convenient terms. \n",
      " \n",
      " \n",
      " Mosey Home Loans:  Make homeownership a reality with our flexible home loan options, designed to suit your budget and lifestyle. \n",
      " \n",
      " \n",
      " Mosey Business Loans:  Fuel your business growth with our business loan solutions, providing you with the capital to expand and thrive. \n",
      " \n",
      " \n",
      " How to Get Your Mosey Exclusive Loan \n",
      " Applying for a Mosey Exclusive Loan is simple: \n",
      " \n",
      " \n",
      " Online Application:  Visit our website and complete the online application form in just a few minutes. \n",
      " \n",
      " \n",
      " Visit Our Branch:  If you prefer a face-to-face experience, visit any Mosey Bank branch, and our dedicated staff will assist you in choosing the perfect loan. \n",
      " \n",
      " \n",
      " Call Us:  Have questions or need assistance? Contact our customer support team, and they will guide you through the loan application process. \n",
      " \n",
      " \n",
      " Realize Your Financial Dreams with Mosey Bank \n",
      " At Mosey Bank, we believe that your dreams are worth investing in. Our Exclusive Loans are designed to empower you to pursue your goals and aspirations, whether it's achieving higher education, owning your dream home, or growing your business. \n",
      " Don't let financial barriers hold you back. Apply for your Mosey Exclusive Loan today, and let us help you take the first step toward turning your financial dreams into a reality!  Paragraph Loans\n",
      "Introducing Mosey's Exclusive Savings Account: Secure Your Financial Future! Heading Your Path to Financial Security Begins Here  What we do Since 2000 we've been serving heroes on the Frontlines of many industries. We help them so they can do their jobs and live the lives they've always imagined. We service the healthcare, education, social services and administration industries with pride and passion. We are relentlessly focused on serving our customers, so they can best serve theirs. \n",
      " Who we are We are a team of passionate, empathetic and driven individuals all working toward a common goal: help those on the Frontlines so they can build a better world. Our leaders are the beacon of hope our world needs. \n",
      " What we have done We've made positive differences in communities across the globe. We’ve helped students see better futures. We've provided those who are sick with good care. We’ve supported veterans, homeless populations and other at risk populations. We are committed to helping everyone live an abundant, happy and healthy life.  Paragraph Savings\n",
      "About Mosey Bank Heading  What we do Since 2000 we’ve been serving heroes on the Frontlines of many industries. We help them so they can do their jobs and live the lives they’ve always imagined. We service the healthcare, education, social services and administration industries with pride and passion. We are relentlessly focused on serving our customers, so they can best serve theirs. \n",
      " Who we are We are a team of passionate, empathetic and driven individuals all working toward a common goal: help those on the Frontlines so they can build a better world. Our leaders are the beacon of hope our world needs. \n",
      " What we have done We’ve made positive differences in communities across the globe. We’ve helped students see better futures. We’ve provided those who are sick with good care. We’ve supported veterans, homeless populations and other at risk populations. We are committed to helping everyone live an abundant, happy and healthy life.  Paragraph\n",
      "Giving back  Last year alone, Mosey Bank associates volunteered over 32,000 hours in community service. Explore some of the ways we give back. \n",
      " At Mosey Bank, we’re guided by a common purpose to help make financial lives better. We drive Responsible Growth by focusing on our clients, managing risk well, and making sure our growth is sustainable. To be sustainable, we have to share our success with our communities which includes all we do to drive progress on societal priorities, including those broadly defined in the United Nations (UN) Sustainable Development Goals (SDG): poverty, hunger, education, affordable housing, and other key areas. \n",
      " As part of this work, we develop strong partnerships with nonprofit organizations addressing issues fundamental to economic mobility and social progress in low- and moderate-income communities. We focus on improving the lives of individuals and families by investing in basic needs and workforce development and education and also strengthening broader community vitality by addressing needs related to affordable housing, small business, and neighborhood revitalization. Through our partnerships, we support vulnerable populations, including working families, youth and young adults out of school and work, seniors, individuals living with disabilities, veterans, and those impacted by the criminal justice system – enabling them to move forward toward their goals. We recognize that people and communities of color continue to face significant challenges, and we are working to advance racial equality and economic opportunity throughout many of our partnerships.\n",
      "Financial services industry overview in 2023: Trends, statistics & analysis  \n",
      " The financial services sector is accelerating its adoption of digital technology. Paying with cash, participating in in-personal meetings with financial consultants, and even using an ATM are all fading facets of financial services. \n",
      " To help you navigate the evolving industry, we've outlined major terms, topics, and trends to provide a high-level financial sector overview. \n",
      " What is the financial services industry? \n",
      " Financial services is a broad term used to describe the various offerings within the finance industry–encompassing everything from insurance and money management to payments and digital banking technology. \n",
      " There are a multitude of stakeholders and moving parts within financial services, from credit card issuers and processors, to legacy banks and emerging challengers. And with financial activity becoming increasingly digitized, especially as consumers are choosing to manage their finances from home amid the ongoing coronavirus pandemic, financial institutions and startups are sharpening their technology and expanding remote services. \n",
      " Financial services industry overview \n",
      " There are three general types of financial services: personal, consumer, and corporate. These three categories encompass the major players and influencers for companies and organizations trying to climb the ladder of the industry. \n",
      " Personal Finance \n",
      " Why is personal finance management (PFM) important? Personal finance is an individual's budgeting, saving, and spending of monetary resources, like income, over time–while taking into consideration various monthly payments or future life events. It sets consumers up for all stages and major events in life, from buying their first car to retirement planning. \n",
      " When choosing a bank or other financial institution, consumers typically look for businesses that offer personal finance services, such as financial advisors. As money management activities increasingly migrate online, consumers are looking to banks that allow them to manage personal accounts remotely and take control of their own financial health via online platforms and mobile apps. \n",
      "\n",
      "How to start using AI in product development today without breaking your existing process  We all know achieving a healthy balance between work and family can be challenging for working parents and careers. \n",
      " \n",
      " When you go out there to build a product, you want people to use it.  As per  userpilot , only 17% of users actually use the SaaS products they’re given. Fewer people using your product means they'll miss out on seeing the value of your product and are unlikely to renew their subscription.  \n",
      " So, building a great product and  finding the market fit is essential in any product development lifecycle. Still, understanding potential users, getting deeper insights from customer data, and building prototypes — all take more time than the market is willing to offer you. \n",
      " Products often go out without much brainstorming or just go out too late. As per a report by  Undo , debugging software failures costs roughly $61 billion annually , indicating inadequate testing.  However, I  sense that the process is going to become more data-driven and easier with the continuous advancements in AI.  \n",
      " And here’s how. \n",
      " AI is not the solution itself \n",
      " Yes, AI cannot do everything for you. \n",
      " \n",
      " Gif source:  Giphy.com \n",
      " AI tools are there to help you build better features and products faster, but they won’t do an end-to-end job for you. As a product team, you should evaluate your product development process for AI readiness. It means assessing the existing infrastructure, availability of quality data, and the technical capabilities of your team.    \n",
      " Involving AI doesn't make the process much different from a standard one. Following your standard product development practices and understanding user requirements is still paramount. It can reveal opportunities for intelligent automation or personalized experiences.  \n",
      "  How to: Use AI in product development\n",
      "Mosey Insights  Welcome to our \"Insights\" section - your trusted source for valuable knowledge, expert advice, and thought leadership in the world of banking and finance. Here, we delve deep into the intricacies of financial products, providing you with comprehensive background articles that demystify complex concepts and empower you to make informed decisions.  Insights\n",
      "Global HQ [Card] AI In Product Development website Website Privacy notice Website terms of use Trust center Customer support Community About Report fraud Report lost or stolen card Savings Loans Credit Cards Insights Mosey Bank Footer Services Inspiration Services Mega Menu Blog Menu Inspiration Mega Menu Customer Support About Mosey Bank Support Menu Support Mega Menu Mosey Bank Header Login Get Started Import / Export  Helper page to properly import/export all supporting data for this website. This page may be removed once the site content has been imported.\n"
     ]
    }
   ],
   "source": [
    "for item in formatted_items:\n",
    "    tree = etree.HTML(dom_cleaner(item[\"content_t\"]))\n",
    "    item[\"content\"] = \" \".join(tree.xpath(\"//text()\"))\n",
    "    print(item[\"content\"])"
   ]
  },
  {
   "cell_type": "code",
   "execution_count": 28,
   "metadata": {},
   "outputs": [],
   "source": [
    "import requests\n",
    "import urllib.parse as urlparse"
   ]
  },
  {
   "cell_type": "code",
   "execution_count": 38,
   "metadata": {},
   "outputs": [],
   "source": [
    "def get_path(url_string):\n",
    "    url_parse = urlparse.urlparse(url_string)\n",
    "    path_str = url_parse.path.strip(\"/\").replace(\"/\", \" / \")\n",
    "    if not path_str:\n",
    "        path_str = url_parse.netloc\n",
    "    return path_str\n",
    "\n",
    "\n",
    "def get_type_from_url(url_string):\n",
    "    url_parse = urlparse.urlparse(url_string)\n",
    "    try:\n",
    "        pagetype = url_parse.path.strip(\"/\").split(\"/\")[1].title()\n",
    "        if \"-\" in pagetype:\n",
    "            pagetype = \" \".join(pagetype.split(\"-\")).title()\n",
    "        if \"_\" in pagetype:\n",
    "            pagetype = \" \".join(pagetype.split(\"_\")).title()\n",
    "        if not pagetype:\n",
    "            return \"Web Page\"\n",
    "        return pagetype\n",
    "    except IndexError:\n",
    "        return \"Web Page\""
   ]
  },
  {
   "cell_type": "code",
   "execution_count": 39,
   "metadata": {},
   "outputs": [],
   "source": [
    "for item in formatted_items:\n",
    "    item[\"typeurl_s\"] = get_type_from_url(item[\"uri\"])\n",
    "    item[\"path_s\"] = get_path(item[\"uri\"])"
   ]
  },
  {
   "cell_type": "code",
   "execution_count": 40,
   "metadata": {},
   "outputs": [
    {
     "name": "stdout",
     "output_type": "stream",
     "text": [
      "{'responseHeader': {'rf': 2, 'status': 0, 'QTime': 28}}\n"
     ]
    }
   ],
   "source": [
    "headers = {\n",
    "    \"Authorization\":f\"Token {os.getenv('SITE_SEARCH_RW_TOKEN')}\"\n",
    "}\n",
    "resp = requests.post(\"https://searchcloud-2-us-east-1.searchstax.com/29847/optimizelypoc-1946/update\", headers=headers, json=formatted_items)\n",
    "print(resp.json())"
   ]
  }
 ],
 "metadata": {
  "kernelspec": {
   "display_name": ".venv",
   "language": "python",
   "name": "python3"
  },
  "language_info": {
   "codemirror_mode": {
    "name": "ipython",
    "version": 3
   },
   "file_extension": ".py",
   "mimetype": "text/x-python",
   "name": "python",
   "nbconvert_exporter": "python",
   "pygments_lexer": "ipython3",
   "version": "3.10.11"
  }
 },
 "nbformat": 4,
 "nbformat_minor": 2
}
